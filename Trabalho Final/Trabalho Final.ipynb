{
  "nbformat": 4,
  "nbformat_minor": 0,
  "metadata": {
    "colab": {
      "provenance": [],
      "gpuType": "T4"
    },
    "kernelspec": {
      "name": "python3",
      "display_name": "Python 3"
    },
    "language_info": {
      "name": "python"
    },
    "accelerator": "GPU"
  },
  "cells": [
    {
      "cell_type": "markdown",
      "source": [
        "## Integrantes do Grupo:\n",
        "- Arthur Wanderley Ferreira dos Santos - awfs@cesar.school\n",
        "- Thiago Wanderley Amorim - twa@cesar.school\n",
        "\n",
        "## Dataset Escolhido:\n",
        "https://www.kaggle.com/datasets/juniorbueno/neural-networks-homer-and-bart-classification/data"
      ],
      "metadata": {
        "id": "du7SoKLomi2X"
      }
    },
    {
      "cell_type": "markdown",
      "source": [
        "## Leitura do dataset"
      ],
      "metadata": {
        "id": "EzDmDGAqnPen"
      }
    },
    {
      "cell_type": "code",
      "source": [
        "%matplotlib inline\n",
        "import numpy as np\n",
        "import matplotlib.pyplot as plt\n",
        "import pandas as pd\n",
        "\n",
        "import torch\n",
        "from torch.autograd import Variable\n",
        "\n",
        "import torchvision\n",
        "from torchvision import transforms\n",
        "\n",
        "import os\n",
        "from PIL import Image"
      ],
      "metadata": {
        "id": "3zZ2fOSWq9wE"
      },
      "execution_count": 350,
      "outputs": []
    },
    {
      "cell_type": "code",
      "execution_count": 351,
      "metadata": {
        "colab": {
          "base_uri": "https://localhost:8080/"
        },
        "id": "vq6-tjkdmhZx",
        "outputId": "67ecac34-3538-4b0c-d152-632a13f09334"
      },
      "outputs": [
        {
          "output_type": "stream",
          "name": "stdout",
          "text": [
            "fatal: destination path 'RNA-e-Deep-Learning---CESAR-School-2024.01' already exists and is not an empty directory.\n"
          ]
        }
      ],
      "source": [
        "!git clone https://github.com/arthurwanderley/RNA-e-Deep-Learning---CESAR-School-2024.01.git"
      ]
    },
    {
      "cell_type": "code",
      "source": [
        "image_dir = \"RNA-e-Deep-Learning---CESAR-School-2024.01/Trabalho Final/homer_bart_1\"\n",
        "\n",
        "image_files = [f for f in os.listdir(image_dir) if f.endswith('bmp')]\n",
        "\n",
        "transform = transforms.Compose([\n",
        "    transforms.Resize((224, 224)),\n",
        "    transforms.ToTensor()\n",
        "])"
      ],
      "metadata": {
        "id": "A8ipjcagobGj"
      },
      "execution_count": 352,
      "outputs": []
    },
    {
      "cell_type": "code",
      "source": [
        "\n",
        "images = []\n",
        "labels = []\n",
        "\n",
        "for img_file in image_files:\n",
        "    img_path = os.path.join(image_dir, img_file)\n",
        "    img = Image.open(img_path)\n",
        "    tensor_img = transform(img)\n",
        "    images.append(tensor_img)\n",
        "\n",
        "    if \"homer\" in img_file.lower():\n",
        "        labels.append(0)  # Classe 0 para Homer\n",
        "    elif \"bart\" in img_file.lower():\n",
        "        labels.append(1)  # Classe 1 para Bart"
      ],
      "metadata": {
        "id": "3e87h7vvrTju"
      },
      "execution_count": 353,
      "outputs": []
    },
    {
      "cell_type": "code",
      "source": [
        "\n",
        "images = torch.stack(images)\n",
        "labels = torch.tensor(labels)\n",
        "\n",
        "\n",
        "print(\"Amostras do dataset:\", images.size(0))\n",
        "print(\"\\nDimensões dos dados das imagens:   \", images.size())\n",
        "print(\"Valores mínimo e máximo dos pixels:\", torch.min(images), torch.max(images))\n",
        "print(\"Tipo dos dados das imagens:        \", type(images))\n",
        "print(\"Tipo das classes das imagens:      \", type(labels))"
      ],
      "metadata": {
        "id": "YIFD5XpatXIk",
        "colab": {
          "base_uri": "https://localhost:8080/"
        },
        "outputId": "32988c20-a252-4738-be93-524effc6d343"
      },
      "execution_count": 354,
      "outputs": [
        {
          "output_type": "stream",
          "name": "stdout",
          "text": [
            "Amostras do dataset: 269\n",
            "\n",
            "Dimensões dos dados das imagens:    torch.Size([269, 3, 224, 224])\n",
            "Valores mínimo e máximo dos pixels: tensor(0.) tensor(1.)\n",
            "Tipo dos dados das imagens:         <class 'torch.Tensor'>\n",
            "Tipo das classes das imagens:       <class 'torch.Tensor'>\n"
          ]
        }
      ]
    },
    {
      "cell_type": "code",
      "source": [
        "plt.figure(figsize=(2, 2))\n",
        "plt.imshow(images[0].permute(1, 2, 0))\n",
        "plt.title(f\"Label: {'Homer' if labels[0] == 0 else 'Bart'}\")\n",
        "plt.axis('off')\n",
        "plt.show()"
      ],
      "metadata": {
        "colab": {
          "base_uri": "https://localhost:8080/",
          "height": 213
        },
        "id": "6_a7MSyLqo_X",
        "outputId": "0550fc4d-f0cd-4c67-8a12-3f77e9c64243"
      },
      "execution_count": 355,
      "outputs": [
        {
          "output_type": "display_data",
          "data": {
            "text/plain": [
              "<Figure size 200x200 with 1 Axes>"
            ],
            "image/png": "[encoded data removed]"
          },
          "metadata": {}
        }
      ]
    },
    {
      "cell_type": "code",
      "source": [
        "from torch.utils.data import random_split\n",
        "from torch.utils.data import TensorDataset\n",
        "\n",
        "dataset = TensorDataset(images, labels)\n",
        "\n",
        "total_size = len(images)\n",
        "train_size = int(0.8 * total_size)\n",
        "test_size = total_size - train_size\n",
        "\n",
        "torch.manual_seed(42)\n",
        "train_dataset, test_dataset = random_split(dataset, [train_size, test_size])\n",
        "\n",
        "x_train = torch.stack([x for x, _ in train_dataset])\n",
        "y_train = torch.tensor([y for _, y in train_dataset])\n",
        "x_test = torch.stack([x for x, _ in test_dataset])\n",
        "y_test = torch.tensor([y for _, y in test_dataset])\n",
        "\n",
        "\n",
        "print(\"Amostras de treinamento:\", len(train_dataset))\n",
        "print(\"Amostras de teste:\", len(test_dataset))\n",
        "print(\"\\nDimensões dos dados de treinamento:\", x_train.size())\n",
        "print(\"Dimensões dos dados de teste:\", x_test.size())\n",
        "print(\"\\nValores mínimo e máximo dos pixels (treino):\", torch.min(x_train), torch.max(x_train))\n",
        "print(\"Valores mínimo e máximo dos pixels (teste):\", torch.min(x_test), torch.max(x_test))"
      ],
      "metadata": {
        "id": "bUT8l_mbq1O1",
        "colab": {
          "base_uri": "https://localhost:8080/"
        },
        "outputId": "5a4a2d3f-46bc-408a-cb43-1d62dc4749f8"
      },
      "execution_count": 356,
      "outputs": [
        {
          "output_type": "stream",
          "name": "stdout",
          "text": [
            "Amostras de treinamento: 215\n",
            "Amostras de teste: 54\n",
            "\n",
            "Dimensões dos dados de treinamento: torch.Size([215, 3, 224, 224])\n",
            "Dimensões dos dados de teste: torch.Size([54, 3, 224, 224])\n",
            "\n",
            "Valores mínimo e máximo dos pixels (treino): tensor(0.) tensor(1.)\n",
            "Valores mínimo e máximo dos pixels (teste): tensor(0.) tensor(1.)\n"
          ]
        }
      ]
    },
    {
      "cell_type": "markdown",
      "source": [
        "## Definição do Modelo da Rede"
      ],
      "metadata": {
        "id": "nOepjoUECC_k"
      }
    },
    {
      "cell_type": "code",
      "source": [
        "from torch import nn\n",
        "import torch.nn.functional as F\n",
        "\n",
        "class LinearNet(nn.Module):\n",
        "    def __init__(self):\n",
        "        super(LinearNet, self).__init__()\n",
        "        self.flatten = nn.Flatten()\n",
        "        self.linear1 = nn.Linear(3 * 224 * 224, 512)\n",
        "        self.linear2 = nn.Linear(512, 128)\n",
        "        self.linear3 = nn.Linear(128, 32)\n",
        "        self.linear4 = nn.Linear(32, 2)\n",
        "        self.dropout = nn.Dropout(0.25)\n",
        "\n",
        "    def forward(self, x):\n",
        "        x = self.flatten(x)\n",
        "        x = F.relu(self.linear1(x))\n",
        "        x = self.dropout(x)\n",
        "        x = F.relu(self.linear2(x))\n",
        "        x = self.dropout(x)\n",
        "        x = F.relu(self.linear3(x))\n",
        "        x = self.linear4(x)\n",
        "        return F.log_softmax(x, dim=1)"
      ],
      "metadata": {
        "id": "pMJZeLHqId7B"
      },
      "execution_count": 357,
      "outputs": []
    },
    {
      "cell_type": "code",
      "source": [
        "from torch import optim"
      ],
      "metadata": {
        "id": "a1JerBp7I1wN"
      },
      "execution_count": 358,
      "outputs": []
    },
    {
      "cell_type": "code",
      "source": [
        "train_loader = torch.utils.data.DataLoader(\n",
        "    torch.utils.data.TensorDataset(x_train, y_train),\n",
        "    batch_size=32,\n",
        "    shuffle=True\n",
        ")"
      ],
      "metadata": {
        "id": "c3OZZs6IJCHh"
      },
      "execution_count": 359,
      "outputs": []
    },
    {
      "cell_type": "code",
      "source": [
        "def train(model, device, train_loader, optimizer, epoch):\n",
        "    model.train()\n",
        "    for batch_idx, (data, target) in enumerate(train_loader):\n",
        "        data, target = data.to(device), target.to(device)\n",
        "        optimizer.zero_grad()\n",
        "        output = model(data)\n",
        "        loss = F.nll_loss(output, target)\n",
        "        loss.backward()\n",
        "        optimizer.step()\n",
        "\n",
        "        if batch_idx % 10 == 0:\n",
        "            print(f'Epoch {epoch} [{batch_idx * len(data)}/{len(train_loader.dataset)}] Loss: {loss.item():.6f}')"
      ],
      "metadata": {
        "id": "Ycwqu3K5JC8I"
      },
      "execution_count": 360,
      "outputs": []
    },
    {
      "cell_type": "code",
      "source": [
        "n_epochs = 50\n",
        "device = torch.device(\"cuda\" if torch.cuda.is_available() else \"cpu\")\n",
        "model = LinearNet().to(device)\n",
        "optimizer = optim.Adam(model.parameters(), lr=0.0001)\n",
        "\n",
        "for epoch in range(1, n_epochs + 1):\n",
        "    train(model, device, train_loader, optimizer, epoch)"
      ],
      "metadata": {
        "colab": {
          "base_uri": "https://localhost:8080/"
        },
        "id": "brUGyDT6JGrr",
        "outputId": "b21ec421-2fdc-4509-a7e7-7f904ab02ec6"
      },
      "execution_count": 364,
      "outputs": [
        {
          "output_type": "stream",
          "name": "stdout",
          "text": [
            "Epoch 1 [0/215] Loss: 0.737243\n",
            "Epoch 2 [0/215] Loss: 0.834350\n",
            "Epoch 3 [0/215] Loss: 0.833898\n",
            "Epoch 4 [0/215] Loss: 0.771104\n",
            "Epoch 5 [0/215] Loss: 0.692480\n",
            "Epoch 6 [0/215] Loss: 0.614773\n",
            "Epoch 7 [0/215] Loss: 0.689438\n",
            "Epoch 8 [0/215] Loss: 0.632022\n",
            "Epoch 9 [0/215] Loss: 0.689774\n",
            "Epoch 10 [0/215] Loss: 0.529282\n",
            "Epoch 11 [0/215] Loss: 0.576738\n",
            "Epoch 12 [0/215] Loss: 0.644943\n",
            "Epoch 13 [0/215] Loss: 0.599209\n",
            "Epoch 14 [0/215] Loss: 0.602690\n",
            "Epoch 15 [0/215] Loss: 0.882078\n",
            "Epoch 16 [0/215] Loss: 0.417848\n",
            "Epoch 17 [0/215] Loss: 0.494043\n",
            "Epoch 18 [0/215] Loss: 0.392825\n",
            "Epoch 19 [0/215] Loss: 0.408641\n",
            "Epoch 20 [0/215] Loss: 0.468524\n",
            "Epoch 21 [0/215] Loss: 0.391783\n",
            "Epoch 22 [0/215] Loss: 0.595945\n",
            "Epoch 23 [0/215] Loss: 0.329952\n",
            "Epoch 24 [0/215] Loss: 0.574209\n",
            "Epoch 25 [0/215] Loss: 0.331838\n",
            "Epoch 26 [0/215] Loss: 0.434565\n",
            "Epoch 27 [0/215] Loss: 0.325031\n",
            "Epoch 28 [0/215] Loss: 0.420987\n",
            "Epoch 29 [0/215] Loss: 0.267355\n",
            "Epoch 30 [0/215] Loss: 0.250598\n",
            "Epoch 31 [0/215] Loss: 0.389832\n",
            "Epoch 32 [0/215] Loss: 0.356875\n",
            "Epoch 33 [0/215] Loss: 0.659654\n",
            "Epoch 34 [0/215] Loss: 0.348205\n",
            "Epoch 35 [0/215] Loss: 0.277184\n",
            "Epoch 36 [0/215] Loss: 0.350687\n",
            "Epoch 37 [0/215] Loss: 0.186246\n",
            "Epoch 38 [0/215] Loss: 0.246776\n",
            "Epoch 39 [0/215] Loss: 0.335205\n",
            "Epoch 40 [0/215] Loss: 0.215186\n",
            "Epoch 41 [0/215] Loss: 0.195366\n",
            "Epoch 42 [0/215] Loss: 0.201449\n",
            "Epoch 43 [0/215] Loss: 0.218457\n",
            "Epoch 44 [0/215] Loss: 0.380783\n",
            "Epoch 45 [0/215] Loss: 0.387140\n",
            "Epoch 46 [0/215] Loss: 0.186147\n",
            "Epoch 47 [0/215] Loss: 0.214128\n",
            "Epoch 48 [0/215] Loss: 0.194652\n",
            "Epoch 49 [0/215] Loss: 0.084350\n",
            "Epoch 50 [0/215] Loss: 0.125132\n"
          ]
        }
      ]
    },
    {
      "cell_type": "code",
      "source": [
        "def test(model, device, test_loader):\n",
        "   model.eval()\n",
        "   test_loss = 0\n",
        "   correct = 0\n",
        "   with torch.no_grad():\n",
        "       for data, target in test_loader:\n",
        "           data, target = data.to(device), target.to(device)\n",
        "           output = model(data)\n",
        "           test_loss += F.nll_loss(output, target, reduction='sum').item()\n",
        "           pred = output.argmax(dim=1, keepdim=True)\n",
        "           correct += pred.eq(target.view_as(pred)).sum().item()\n",
        "\n",
        "   test_loss /= len(test_loader.dataset)\n",
        "   print('\\nTest set: Average loss: {:.4f}, Accuracy: {}/{} ({:.0f}%)\\n'.format(\n",
        "       test_loss, correct, len(test_loader.dataset),\n",
        "       100. * correct / len(test_loader.dataset)))\n",
        "\n",
        "test_loader = torch.utils.data.DataLoader(\n",
        "   torch.utils.data.TensorDataset(x_test, y_test),\n",
        "   batch_size=32\n",
        ")\n",
        "\n",
        "\n",
        "test(model, device, test_loader)"
      ],
      "metadata": {
        "colab": {
          "base_uri": "https://localhost:8080/"
        },
        "id": "KnyyHZ90JcBa",
        "outputId": "03a8a7a2-3a62-4c1d-b51f-df2f45630d9a"
      },
      "execution_count": 365,
      "outputs": [
        {
          "output_type": "stream",
          "name": "stdout",
          "text": [
            "\n",
            "Test set: Average loss: 0.4598, Accuracy: 43/54 (80%)\n",
            "\n"
          ]
        }
      ]
    },
    {
      "cell_type": "markdown",
      "source": [
        "No desenvolvimento desta atividade, pudemos entender como criar uma rede neural aplicada a classificação binária entre duas categorias. Pudemos também entender as implicações das mudanças dos parametros da rede.\n",
        "\n",
        "Inicialmente, setamos um valor de learning de 0.01, e percebemos que, durante as épocas, a função de perda não apresentava convergência, indicando que o valor pudesse estar muito alto. Após isso, diminuímos o valor para 0.001, e notamos que durante as épocas, a função de perda passou a diminuir, mas em um ritmo lento. Nesse momento, o modelo já apresentava uma acurácia melhor (74%) do que com o learning rate de 0.01 (66%). Decidimos então aumentar o número de épocas para 100, mas percebemos que a função de perda diminuía até a época aproximada de 80, e então aumentava novamente, indicando um possível overfitting (a acurácia do modelo também diminui de 74% para 68%). Decidimos então voltar para 50 épocas e diminuir ainda mais o learning rate para 0.001%.\n",
        "\n",
        "Além disso, testamos também alterações no número de parametros da rede, mas não afetou de maneira significativa."
      ],
      "metadata": {
        "id": "nGg_l62zRJo1"
      }
    }
  ]
}